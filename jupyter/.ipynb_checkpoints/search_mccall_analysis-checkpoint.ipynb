{
 "cells": [
  {
   "cell_type": "markdown",
   "id": "f27d16ed",
   "metadata": {},
   "source": [
    "# Analysis of the McCall (1970) search model"
   ]
  },
  {
   "cell_type": "markdown",
   "id": "af02164d",
   "metadata": {},
   "source": [
    "## Theory\n",
    "\n",
    "The worker in the McCall (1970) receives a sequence of wage offers $w_t$ at times $t=0,1,2,\\ldots$, which are iid and drawn from a distribution with cdf $F(w)$, with a bounded support $[0,B]$. After seeing the current wage offer $w_t$, the worker either accepts it, in which case the worker leaves the labor market and receives income $y_{t+j} = w_t$ in all future periods, $j=0,1,2,\\ldots$, or rejects it, in which case the worker receives an unemployment benefit $y_t = c\\in[0,B]$, and moves on to the next period to receive a new offer $w_{t+1}$.\n",
    "\n",
    "The worker hence solves the sequence problem\n",
    "\n",
    "\\begin{equation}\n",
    "V_{0}^{\\ast }=\\max_{\\left\\{ a_{t}\\right\\} _{t=0}^{\\infty }}E_{0}\\left[\n",
    "\\sum_{t=0}^{\\infty }\\beta ^{t}y_{t}\\right]\n",
    "\\end{equation}\n",
    "\n",
    "where $a_{t}\\in \\left\\{ \\text{accept, reject}\\right\\} $ if the worker has\n",
    "not yet accepted any earlier offer, and $a_{t}\\in \\left\\{ {}\\right\\} $\n",
    "otherwise. The quantity $V_{0}^{\\ast }$ is the <b>value function</b>, and we assume that the expectations operator $E_0[\\cdot]$ conditions on information available at time 0, including the current offer $w_{0}$.\n",
    "\n",
    "The recursive formulation of the problem relies on the <b>principle of optimality</b> (Bellman, 1952, 1957). We can rewrite the problem as:\n",
    "\n",
    "\\begin{align}\n",
    "V_{0}^{\\ast } &=\\max_{\\left\\{ a_{t}\\right\\} _{t=0}^{\\infty }}\\left\\{\n",
    "y_{0}+\\beta E_{0}\\left[ \\sum_{t=1}^{\\infty }\\beta ^{t-1}y_{t}\\right]\n",
    "\\right\\} =\\max_{a_{0}}\\left\\{ y_{0}+\\beta \\max_{\\left\\{ a_{t}\\right\\}\n",
    "_{t=1}^{\\infty }}E_{0}\\left[ \\sum_{t=1}^{\\infty }\\beta ^{t-1}y_{t}\\right]\n",
    "\\right\\}   \\\\\n",
    "&=\\max_{a_{0}}\\left\\{ y_{0}+\\beta E_{0}\\left[ \\max_{\\left\\{ a_{t}\\right\\}\n",
    "_{t=1}^{\\infty }}\\left\\{ y_{1}+\\beta E_{1}\\left[ \\sum_{t=2}^{\\infty }\\beta\n",
    "^{t-2}y_{t}\\right] \\right\\} \\right] \\right\\} =\\max_{a_{0}}\\left\\{\n",
    "y_{0}+\\beta E_{0}\\left[ V_{1}^{\\ast }\\right] \\right\\} .\n",
    "\\end{align}\n",
    "\n",
    "### Recursive formulation\n",
    "\n",
    "In order to make the problem tractable, we need to find a representation in\n",
    "which $V_{0}^{\\ast }$ and $V_{1}^{\\ast }$ have the same structure. This requires finding the <b>state</b> for the problem that encodes all relevant information for worker's time-$t$ decision problem.\n",
    "\n",
    "<div style=\"background-color:#BBCC33;padding:10pt;margin-top:10pt;margin-bottom:10pt;text-align:center;\">\n",
    "<b>Finding the state is an art.</b> &nbsp; &nbsp; &nbsp; &nbsp; &nbsp; &nbsp; &nbsp;<it>Thomas Sargent</i>\n",
    "</div>\n",
    "\n",
    "Introspection of the problem reveals that the relevant information for a worker who has not yet accepted an offer is summarized in the current wage offer $w_t$. This implies that we can write the value function $V_{t}^{\\ast }$ of worker who is still searching at time $t$ as $V_{t}^{\\ast } = V(w_t)$.\n",
    "\n",
    "This invites the following <b>recursive representation</b> of the problem in the form of a <b>Bellman equation</b>:\n",
    "\n",
    "\\begin{equation}\n",
    "V\\left( w\\right) =\\max_{\\left\\{ \\text{accept, reject}\\right\\} }\\left\\{\n",
    "V^{a}\\left( w\\right) ,c+\\beta \\int_{0}^{B}V\\left( w^{\\prime }\\right)\n",
    "dF\\left( w^{\\prime }\\right) \\right\\} .\n",
    "\\end{equation}\n",
    "\n",
    "where $V^a (w)$ is the value of accepting the current offer $w$:\n",
    "\n",
    "\\begin{equation*}\n",
    "V^{a}\\left( w\\right) =\\sum_{t=0}^{\\infty }\\beta ^{t}w=\\frac{w}{1-\\beta }.\n",
    "\\end{equation*}\n",
    "\n",
    "and\n",
    "\n",
    "\\begin{equation*}\n",
    "Q = c+\\beta \\int_{0}^{B}V\\left( w^{\\prime }\\right) dF\\left( w^{\\prime }\\right) .\n",
    "\\end{equation*}\n",
    "\n",
    "is the value of rejecting the offer, collecting the unemployment benefit $c$ and drawing again next period from the offer distribution $F(w)$.\n",
    "\n",
    "### Reservation wage\n",
    "\n",
    "Since the value of accepting the offer is linearly increasing in $w$ and the value of rejecting the offer is constant, and the two functions cross exactly once on $[0,B]$, the optimal decision must be in the form of a <b>reservation wage</b> $\\bar w$\n",
    "such that\n",
    "\n",
    "* worker accepts if $w>\\bar{w}$,\n",
    "\n",
    "* worker rejects if $w<\\bar{w}$,\n",
    "\n",
    "* worker is indifferent between accepting and rejecting at $w=\\bar{w}$.\n",
    "\n",
    "This implies that the function $V\\left( w\\right) $ is given by the following piecewise linear form:\n",
    "\n",
    "\\begin{equation}\n",
    "V\\left( w\\right) =\\left\\{\n",
    "\\begin{array}{cc}\n",
    "\\displaystyle c+\\beta \\int_{0}^{B}V\\left( w^{\\prime }\\right) dF\\left(\n",
    "w^{\\prime }\\right) =\\frac{\\bar{w}}{1-\\beta } & \\quad \\text{if }w\\leq \\bar{w}\n",
    "\\\\\n",
    "\\displaystyle\\frac{w}{1-\\beta } & \\quad \\text{if }w\\geq \\bar{w}%\n",
    "\\end{array}%\n",
    "\\right.\n",
    "\\end{equation}\n",
    "\n",
    "The key insight is that the only unknown in the characterization is the reservation wage $\\bar{w}$, or, equivalently, the present value of receiving reservation wage forever,\n",
    "\n",
    "$$Q = c+\\beta \\int_{0}^{B}V\\left( w^{\\prime }\\right) dF\\left(\n",
    "w^{\\prime }\\right) =\\frac{\\bar{w}}{1-\\beta }.$$\n",
    "\n",
    "Using the characterization of the value function $V(w')$, this expression can be written as\n",
    "\n",
    "\\begin{align}\n",
    "\\frac{\\bar{w}}{1-\\beta } &=c+\\beta \\int_{0}^{\\bar{w}}\\frac{\\bar{w}}{1-\\beta\n",
    "}dF\\left( w^{\\prime }\\right) +\\beta \\int_{\\bar{w}}^{B}\\frac{w^{\\prime }}{%\n",
    "1-\\beta }dF\\left( w^{\\prime }\\right) \\\\\n",
    "&=c+\\beta \\int_{0}^{B}\\frac{\\bar{w}}{1-\\beta }dF\\left( w^{\\prime }\\right) +%\n",
    "\\frac{\\beta }{1-\\beta }\\int_{\\bar{w}}^{B}\\left( w^{\\prime }-\\bar{w}\\right)\n",
    "dF\\left( w^{\\prime }\\right)\n",
    "\\end{align}\n",
    "\n",
    "which yields the following expression for the reservation wage:\n",
    "\n",
    "\\begin{equation}\n",
    "\\bar{w}-c=\\frac{\\beta }{1-\\beta }\\int_{\\bar{w}}^{B}\\left( w^{\\prime }-\\bar{w}%\n",
    "\\right) dF\\left( w^{\\prime }\\right) \\text{.} \n",
    "\\end{equation}\n",
    "\n",
    "The left-hand side is the cost of searching one more time when the current offer is $\\bar{w}$, while the right-hand side is the net benefit of searching one more time. The left-hand side is increasing in $\\bar{w}$, while the right-hand side is decreasing, and the two functions cross exactly once, hence there is a unique reservation wage $\\bar{w}$."
   ]
  },
  {
   "cell_type": "markdown",
   "id": "2ab7acc4",
   "metadata": {},
   "source": [
    "## Quadrature methods"
   ]
  },
  {
   "cell_type": "markdown",
   "id": "425b1459",
   "metadata": {},
   "source": [
    "Numerical implementation of the model solution will require the evaluation of an integral of a function over the distribution with cdf $F(w)$. While it is possible to choose distributions for which analytical formulas exist, we implement a numerical approximation by discretizing the continuous distribution to a grid of finitely many nodes. Such an algorithm is called a <b>quadrature rule</b>.\n",
    "\n",
    "Imagine we are given the cdf $F(w)$ with density $f(w)$ and an interval $[a,b] \\subseteq [0,B]$. A quadrature rule involves choosing a grid of nodes $w^{i}$, $i=1,\\ldots\n",
    ",I$ such that $w^{i} < w^{i+1}$, and associated weights $f^i$ such that we can approximate the integral of a function $g(w)$ using a sum over the pre-designed nodes:\n",
    "\n",
    "$$ \\int_{a}^{b} g(w)f(w)dw \\approx \\sum_{i=1}^{I} g\\left( w^i \\right) f^i $$\n",
    "\n",
    "A simple choice would be an equidistant grid on $[a,b]$ that splits the interval into $I-1$ subintervals of equal distance, with $w^1 = a$, $w^I = b$, and\n",
    "\n",
    "$$ w^i = a + \\frac{i-1}{I-1}(b-a), \\qquad i=1,\\ldots,I.$$\n",
    "\n",
    "We work with a general subinterval $[a,b]$, for example, we could choose $[a,b] = [\\bar{w},B]$.\n",
    "\n",
    "For a given grid of points, we can choose the weights as follows:\n",
    "\\begin{equation}\n",
    "{f}^{i}=\\left\\{\n",
    "\\begin{array}{cc}\n",
    "\\displaystyle F\\left( \\frac{1}{2}\\left( w^{2}+w^{1}\\right) \\right) - F \\left( a \\right) & i=1 \\\\\n",
    "\\displaystyle F\\left( \\frac{1}{2}\\left( w^{i+1}+w^{i}\\right) \\right)\n",
    "-F\\left( \\frac{1}{2}\\left( w^{i}+w^{i-1}\\right) \\right) & 0<i<I \\\\\n",
    "\\displaystyle{F\\left( b\\right)}-F\\left( \\frac{1}{2}\\left( w^{I}+w^{I-1}\\right) \\right) & i=I%\n",
    "\\end{array}%\n",
    "\\right.\n",
    "\\end{equation}\n",
    "\n",
    "This weighting scheme concentrates the continuous density $f\\left( w\\right) $ into the nearest mass points on the grid. Also observe that, as desired\n",
    "\n",
    "$$\\int_a^b f(w) dw = \\int_a^b dF(w) = F(b)-F(a) = \\sum_{i=1}^I f^i.$$"
   ]
  },
  {
   "cell_type": "markdown",
   "id": "7cddb454",
   "metadata": {},
   "source": [
    "## Numerical implementation\n",
    "\n",
    "We now turn to implementation of the simple quadrature method."
   ]
  },
  {
   "cell_type": "markdown",
   "id": "bcb42300",
   "metadata": {},
   "source": [
    "Define the local folder where graphs will be stored, and from which data will be retrieved. If you are running the notebook within Google Colab, use the second option."
   ]
  },
  {
   "cell_type": "code",
   "execution_count": 1,
   "id": "a6003d08",
   "metadata": {},
   "outputs": [],
   "source": [
    "graphfolder = \"graphs/\"\n",
    "datafolder = \"data/\"\n",
    "\n",
    "# options for Google Colab (uncomment the following lines)\n",
    "# graphfolder = \"gdrive/MyDrive/graphs/\"\n",
    "# datafolder = \"gdrive/MyDrive/data/\""
   ]
  },
  {
   "cell_type": "markdown",
   "id": "21deadf0",
   "metadata": {},
   "source": [
    "Import relevant packages."
   ]
  },
  {
   "cell_type": "code",
   "execution_count": 2,
   "id": "1847671a",
   "metadata": {},
   "outputs": [
    {
     "name": "stdout",
     "output_type": "stream",
     "text": [
      "Root package econutil imported.\n"
     ]
    }
   ],
   "source": [
    "# render graphs within notebook\n",
    "%matplotlib inline\n",
    "\n",
    "# import packages\n",
    "import numpy as np\n",
    "\n",
    "# load econutil package with some frequently used functions\n",
    "import econutil as ec"
   ]
  },
  {
   "cell_type": "code",
   "execution_count": 3,
   "id": "2d2f80db",
   "metadata": {
    "scrolled": true
   },
   "outputs": [],
   "source": [
    "# simple_quadrature constructs an equidistant grid quadrature rule on interval r, either from density f or cdf F\n",
    "# the functions f or F need to be provided as arguments, param is the parameter vector (can be empty)\n",
    "def simple_quadrature(r=[0,1],I=10,f=\"\",F=\"\",param=\"\"):\n",
    "    if F:\n",
    "        # construct weights from F\n",
    "        nodes = np.linspace(r[0],r[1],I)\n",
    "        weights = np.linspace(r[0],r[1],I)\n",
    "        weights[1:-1] = F((nodes[2:]+nodes[1:-1])/2,param) - F((nodes[1:-1]+nodes[:-2])/2,param)\n",
    "        weights[0] = F((nodes[1]+nodes[0])/2,param) - F(nodes[0],param)\n",
    "        weights[-1] = F(nodes[-1],param) - F((nodes[-1]+nodes[-2])/2,param)\n",
    "    elif f:\n",
    "        nodes = np.linspace(r[0],r[1],I)\n",
    "        weights = f(nodes,param)\n",
    "        # nodes at boundaries receive half weight\n",
    "        weights[0] /= 2\n",
    "        weights[-1] /= 2\n",
    "        # renormalize weights to sum up to one\n",
    "        weights = weights/sum(weights)\n",
    "    else:\n",
    "        print('Neither pdf nor cdf were defined.')\n",
    "            \n",
    "    return nodes, weights"
   ]
  },
  {
   "cell_type": "markdown",
   "id": "f73f9b74",
   "metadata": {},
   "source": [
    "Test the simple quadrature method."
   ]
  },
  {
   "cell_type": "code",
   "execution_count": 4,
   "id": "e56ca4cc",
   "metadata": {},
   "outputs": [
    {
     "name": "stdout",
     "output_type": "stream",
     "text": [
      "Nodes and weights using the density for approximation.\n",
      "  Nodes [ 0.  2.  4.  6.  8. 10.]\n",
      "  Weights [0.1 0.2 0.2 0.2 0.2 0.1]\n",
      "Nodes and weights using the cdf for approximation.\n",
      "  Nodes [ 0.  2.  4.  6.  8. 10.]\n",
      "  Weights [0.1 0.2 0.2 0.2 0.2 0.1]\n"
     ]
    }
   ],
   "source": [
    "# f is uniform density on [a,b] (default is [0,1])\n",
    "def f_uniform(w,param=[0,1]):\n",
    "    a = param[0]\n",
    "    b = param[1]\n",
    "    return w*0 + 1/(b-a)\n",
    "# F is uniform cdf on [a,b] (default is [0,1])\n",
    "def F_uniform(w,param=[0,1]):\n",
    "    a = param[0]\n",
    "    b = param[1]\n",
    "    return (w-a)/(b-a)\n",
    "\n",
    "# construct quadrature rule using uniform density on [0,10]\n",
    "what,fhat = simple_quadrature([0,10],6,f = f_uniform,param=[0,10])\n",
    "print('Nodes and weights using the density for approximation.')\n",
    "print('  Nodes',what)\n",
    "print('  Weights',fhat)\n",
    "\n",
    "# construct quadrature rule using cdf of a uniform distribution\n",
    "what,fhat = simple_quadrature([0,10],6,F = F_uniform,param=[0,10])\n",
    "print('Nodes and weights using the cdf for approximation.')\n",
    "print('  Nodes',what)\n",
    "print('  Weights',fhat)"
   ]
  },
  {
   "cell_type": "markdown",
   "id": "43f55f10",
   "metadata": {},
   "source": [
    "### Gaussian quadrature\n",
    "\n",
    "Gaussian quadrature is a more sophisticated approach to the approximation of the integral\n",
    "\n",
    "$$ \\int_{a}^{b} g(w)f(w)dw \\approx \\sum_{i=1}^{I} g\\left( w^i \\right) f^i $$\n",
    "\n",
    "that involves the design of $I$ nodes $w^i$ and weights $f^i$ such that for any polynomial function $g(w)$ of degree up to $2I-1$, the discrete quadrature approximation above is exact. The computation of the nodes and weights can itself involve numerical integration but for some choices of intervals $[a,b]$ and weighting functions $f(w)$, explicit solutions exist. Gaussian approximation will work well when we are confident that the integrated function $g(w)$ is well approximated by a polynomial of a given degree.\n",
    "\n",
    "We provide an implementation here but skip the outline of the derivation of the quadrature rules. For more details, see notes and the Wikipedia page on <a href=\"https://en.wikipedia.org/wiki/Gaussian_quadrature\">Gaussian quadrature</a>."
   ]
  },
  {
   "cell_type": "code",
   "execution_count": 5,
   "id": "38cff057",
   "metadata": {},
   "outputs": [],
   "source": [
    "# The algorithm computes nodes and weights using the Golub-Welsch algorithm\n",
    "def gaussian_quadrature(J,method):\n",
    "    if method=='Legendre':\n",
    "        # interval [-1,1], weighting function f(w)=1\n",
    "        mu0 = 2\n",
    "        a_n_n = np.zeros([J,1])\n",
    "        a_n_nlag = np.linspace(1,J-1,J-1)**2 / (4*np.linspace(1,J-1,J-1)**2 - 1)\n",
    "    elif (method=='Hermite') or (method=='Hermite-density'):\n",
    "        # Hermite: interval [-\\infty,\\infty], weighting function f(w) = exp(-x**2)\n",
    "        # Hermite-density: interval [-\\infty,\\infty], weighting function f(w) = 1/(2*pi)**2 * exp(-1/2*x**2)\n",
    "        mu0 = np.pi**0.5\n",
    "        a_n_n = np.zeros([J,1])\n",
    "        a_n_nlag = np.linspace(1,J-1,J-1)/2\n",
    "    else:\n",
    "        print('Quadrature rule not specified.')\n",
    "    \n",
    "    #\n",
    "    Lambdahat = np.asmatrix(np.diag(a_n_n,0) + np.diag(a_n_nlag**0.5,1) + np.diag(a_n_nlag**0.5,-1))\n",
    "    eigval,eigvec = np.linalg.eig(Lambdahat)\n",
    "    idx = eigval.argsort()\n",
    "    nodes = eigval[idx]\n",
    "    eigvec = eigvec[:,idx]    \n",
    "    weights = nodes.copy()\n",
    "    for i in range(0,J):\n",
    "        weights[i] = mu0*eigvec[0,i]**2 / (eigvec[:,i].transpose()*eigvec[:,i]).item()\n",
    "\n",
    "    # normalization for Gauss-Hermite quadrature with weighting function equal to normal density\n",
    "    if (method=='Hermite-density'):\n",
    "        nodes = nodes * 2**0.5\n",
    "        weights = weights / np.pi**0.5\n",
    "    \n",
    "    return nodes, weights"
   ]
  },
  {
   "cell_type": "markdown",
   "id": "857f33de",
   "metadata": {},
   "source": [
    "Test the Gaussian quadrature function."
   ]
  },
  {
   "cell_type": "code",
   "execution_count": 6,
   "id": "c3e29865",
   "metadata": {},
   "outputs": [
    {
     "name": "stdout",
     "output_type": "stream",
     "text": [
      "Nodes:  [-2.85697 -1.35563 -0.       1.35563  2.85697]\n",
      "Weights:  [0.01126 0.22208 0.53333 0.22208 0.01126]\n"
     ]
    }
   ],
   "source": [
    "nodes,weights = gaussian_quadrature(5,'Hermite-density')\n",
    "np.set_printoptions(precision=5)\n",
    "np.set_printoptions(suppress=True)\n",
    "print(\"Nodes: \", nodes)\n",
    "print('Weights: ',weights)"
   ]
  },
  {
   "cell_type": "markdown",
   "id": "aa21f50a",
   "metadata": {},
   "source": [
    "## Numerical solution of the reservation wage equation\n",
    "\n",
    "We want to find the solution $\\bar{w}$ to the equation\n",
    "\n",
    "\\begin{equation}\n",
    "\\bar{w}-c=\\frac{\\beta }{1-\\beta }\\int_{\\bar{w}}^{B}\\left( w^{\\prime }-\\bar{w}\\right) dF\\left( w^{\\prime }\\right) \\text{.}\n",
    "\\end{equation}\n",
    "\n",
    "Define the function\n",
    "\n",
    "$$g(w) = w - c - \\frac{\\beta }{1-\\beta }\\int_{{w}}^{B}\\left( w^{\\prime }-{w}%\n",
    "\\right) dF\\left( w^{\\prime }\\right) \\text{.}  $$\n",
    "\n",
    "We already know this function is strictly increasing, with $g(0) < 0 < g(B)$. Hence a unique solution to $g(w)=0$ exists."
   ]
  },
  {
   "cell_type": "markdown",
   "id": "e6d13692",
   "metadata": {},
   "source": [
    "### Bisection method\n",
    "\n",
    "The bisection method is a simple algorithm that finds the unique root of a function $g(w)$ on $[a,b]$ with $\\textrm{sgn}(g(a))\\cdot\\textrm{sgn}(g(b)) = -1$.\n",
    "\n",
    "1. Start with $w^0_l = a$ and $w^0_r = b$, choose a precision threshold $\\epsilon$.\n",
    "2. For iteration $i$, evaluate $w_m = (w^i_l + w^i_r)/2$.\n",
    "    - if $g(w_m) = 0$, root found, exit.\n",
    "    - if $\\textrm{sgn}(g(w_m)) \\cdot \\textrm{sgn}(g(w^i_l)) = 1$, set $w^{i+1}_l = w_m$ and $w^{i+1}_r = w^i_r$\n",
    "    - otherwise, set $w^{i+1}_l = w^i_l$ and $w^{i+1}_r = w_m$.\n",
    "3. Iterate until $w^{i}_r-w^{i}_l < \\epsilon$, then $w_m$ is the desired root.\n",
    "\n",
    "The idea of the algorithm is to sequentially remove subintervals in which the function $g(w)$ does not change sign, since the root cannot lie in such subintervals."
   ]
  },
  {
   "cell_type": "code",
   "execution_count": 7,
   "id": "7092dd7c",
   "metadata": {},
   "outputs": [],
   "source": [
    "def reservation_wage_bisection(model):\n",
    "    wl,wr = 0, model[\"B\"]\n",
    "    eps = 10**(-10)\n",
    "    iters = 0\n",
    "    while wr-wl > eps:\n",
    "        w = (wl+wr)/2\n",
    "        w_nodes,weights = simple_quadrature(r=[w,model[\"B\"]],I = model[\"I\"],F=model[\"F_cdf\"],param=model[\"F_param\"])\n",
    "        g = w - model[\"c\"] - model[\"beta\"]/(1-model[\"beta\"])*((w_nodes-w)@weights)\n",
    "        if g > 0:\n",
    "            wr = w\n",
    "        else:\n",
    "            wl = w\n",
    "        iters += 1\n",
    "    return (wl+wr)/2,iters"
   ]
  },
  {
   "cell_type": "markdown",
   "id": "b43343ed",
   "metadata": {},
   "source": [
    "Test the bisection method."
   ]
  },
  {
   "cell_type": "code",
   "execution_count": 8,
   "id": "6a87c66c",
   "metadata": {},
   "outputs": [
    {
     "name": "stdout",
     "output_type": "stream",
     "text": [
      "Reservation wage: 0.78013. Reached in 34 iterations.\n"
     ]
    }
   ],
   "source": [
    "# first define the structure of the model we are solving \n",
    "# the following function can implement any cdf needed for the model\n",
    "#     w: vector of values at which to evaluate the cdf\n",
    "#     param: additional parameters for the distribution\n",
    "def model_cdf (w,param=[0,1]):\n",
    "    # uniform density on [a,b] = [0,B]\n",
    "    a = param[0]\n",
    "    b = param[1]\n",
    "    return (w-a)/(b-a)\n",
    "\n",
    "model = {\"beta\":0.96, \"B\": 1, \"c\": 0.2, \"F_cdf\": model_cdf, \"I\" : 1000,\"F_param\" : [0,1]}\n",
    "# now call the bisection routine and plot\n",
    "wbar,i = reservation_wage_bisection(model)\n",
    "print(f'Reservation wage: {wbar:.5}. Reached in {i} iterations.')\n"
   ]
  },
  {
   "cell_type": "markdown",
   "id": "413e7f87",
   "metadata": {},
   "source": [
    "### Newton&ndash;Raphson method\n",
    "\n",
    "The Newton&ndash;Raphson method relies on first-order approximation of the function $g(w)$ whose root $\\bar{w}$ we are solving for. Consider a guess $w_n$ for the root. Then the first-order Taylor expansion around $w_n$ implies\n",
    "\n",
    "$$ g\\left(\\bar{w}\\right) - g\\left(w_n\\right) \\approx g'\\left(w_n\\right) (\\bar{w} - w_n).$$\n",
    "\n",
    "Since $g\\left(\\bar{w}\\right) = 0$, we can isolate $\\bar{w}$ as\n",
    "\n",
    "$$\\bar{w} \\approx w_n - \\frac{ g\\left(w_n\\right)}{g'\\left(w_n\\right)}.$$\n",
    "\n",
    "Hence we obtain an updated guess for the root, which suggests the following algorithm. Start with an initial guess $w_0$, and then iterate\n",
    "\n",
    "$$w_{n+1} = w_n - \\frac{ g\\left(w_n\\right)}{g'\\left(w_n\\right)}$$\n",
    "\n",
    "until $| w_{n+1}-w_n| < \\epsilon$, where $\\epsilon$ is the desired precision.\n",
    "\n",
    "The method requires the computation of $g'\\left(w_n\\right)$, which may have to be calculated numerically if an explicit formula is not available.\n"
   ]
  },
  {
   "cell_type": "markdown",
   "id": "56613be9",
   "metadata": {},
   "source": [
    "For the case of the reservation wage equation,\n",
    "\n",
    "$$g(w) = w - c - \\frac{\\beta }{1-\\beta }\\int_{{w}}^{B}\\left( w^{\\prime }-{w}%\n",
    "\\right) dF\\left( w^{\\prime }\\right) \\text{,}  $$\n",
    "\n",
    "so that, using the Leibniz rule,\n",
    "\n",
    "$$g'(w) = \\frac{1-\\beta F(w)}{1-\\beta}.$$\n",
    "\n",
    "An implementation of the Newton&ndash;Raphson method is thus readily available when the cdf $F(w)$ is known."
   ]
  },
  {
   "cell_type": "code",
   "execution_count": 9,
   "id": "607b5eea",
   "metadata": {},
   "outputs": [],
   "source": [
    "def reservation_wage_newton_raphson(model):\n",
    "    \n",
    "    B = model[\"B\"]\n",
    "    I = model[\"I\"]\n",
    "    F_cdf = model[\"F_cdf\"]\n",
    "    F_param = model[\"F_param\"]\n",
    "    bet = model[\"beta\"]\n",
    "    c = model[\"c\"]\n",
    "    \n",
    "    wold,wnew = 0, B/2\n",
    "    eps = 10**(-10)\n",
    "    iters = 0\n",
    "    while abs(wold-wnew) > eps:\n",
    "        wold = wnew\n",
    "        w_nodes,weights = simple_quadrature(r=[wold,B],I = I,F=F_cdf,param=F_param)\n",
    "        g = wold - c - bet/(1-bet)*((w_nodes-wold)@weights)\n",
    "        dg = (1-bet*F_cdf(wold,F_param))/(1-bet)\n",
    "        \n",
    "        wnew = wold - g/dg\n",
    "        iters += 1\n",
    "        \n",
    "    return wnew,iters"
   ]
  },
  {
   "cell_type": "markdown",
   "id": "e27d0d82",
   "metadata": {},
   "source": [
    "Test the implementation of the Newton&ndash;Raphson method."
   ]
  },
  {
   "cell_type": "code",
   "execution_count": 10,
   "id": "4f6355b6",
   "metadata": {},
   "outputs": [
    {
     "name": "stdout",
     "output_type": "stream",
     "text": [
      "Reservation wage: 0.78013. Reached in 6 iterations.\n"
     ]
    }
   ],
   "source": [
    "# first define the structure of the model we are solving \n",
    "def model_cdf (w,param=[0,1]):\n",
    "    # uniform density on [a,b] = [0,B]\n",
    "    a = param[0]\n",
    "    b = param[1]\n",
    "    return (w-a)/(b-a)\n",
    "\n",
    "model = {\"beta\":0.96, \"B\": 1, \"c\": 0.2, \"F_cdf\": model_cdf, \"I\" : 1000, \"F_param\": [0,1]}\n",
    "\n",
    "# now call the Newton-Raphson routine and plot\n",
    "wbar,i = reservation_wage_newton_raphson(model)\n",
    "print(f'Reservation wage: {wbar:.5}. Reached in {i} iterations.')"
   ]
  },
  {
   "cell_type": "markdown",
   "id": "bd9ec14d",
   "metadata": {},
   "source": [
    "## Contraction mapping argument"
   ]
  },
  {
   "cell_type": "markdown",
   "id": "c6be079a",
   "metadata": {},
   "source": [
    "The contraction mapping argument builds on the equation\n",
    "\n",
    "$$Q = c+\\beta \\int_{0}^{B}V\\left( w^{\\prime }\\right) dF\\left(\n",
    "w^{\\prime }\\right) =\n",
    "c+\\beta \\int_{0}^{B}\\max_{\\left\\{ \\text{accept, reject}\\right\\} }\\left\\{\n",
    "\\frac{w^{\\prime }}{1-\\beta} ,Q \\right\\} dF\\left(\n",
    "w^{\\prime }\\right). $$\n",
    "\n",
    "Recall that $Q$ is the present value of the reservation wage,\n",
    "\n",
    "$$ Q = \\frac{\\bar{w}}{1-\\beta} \\in \\left[ 0, \\frac{B}{1-\\beta} \\right].$$\n",
    "\n",
    "We can define the Bellman operator\n",
    "\n",
    "$$Tq = c+\\beta \\int_{0}^{B}\\max_{\\left\\{ \\text{accept, reject}\\right\\} }\\left\\{\n",
    "\\frac{w^{\\prime }}{1-\\beta} ,q \\right\\} dF\\left(\n",
    "w^{\\prime }\\right), $$\n",
    "\n",
    "which can be shown to be a contraction. This means that the equation $Q = TQ$ has a unique solution which can be obtained by successive approximations. Starting from an initial guess $Q_0 \\in [0,B/(1-\\beta)]$, we can iterate\n",
    "\n",
    "$$Q_{n+1} = T Q_n,$$\n",
    "\n",
    "and the contraction mapping argument assures that\n",
    "\n",
    "$$\\lim_{n\\to\\infty} Q_n = Q.$$"
   ]
  },
  {
   "cell_type": "code",
   "execution_count": 11,
   "id": "fcf7d9a7",
   "metadata": {},
   "outputs": [],
   "source": [
    "def reservation_wage_Q_iteration(model):\n",
    "    Qold,Qnew = 0, model[\"B\"]/(1-model[\"beta\"])/2\n",
    "    eps = 10**(-10)\n",
    "    iters = 0\n",
    "    w_nodes,weights = simple_quadrature(r=[0,model[\"B\"]],I = model[\"I\"],F=model[\"F_cdf\"],param=model[\"F_param\"])\n",
    "    while abs(Qold-Qnew) > eps:\n",
    "        Qold = Qnew\n",
    "        Qnew = model[\"c\"] + model[\"beta\"]*(np.maximum(w_nodes/(1-model[\"beta\"]),Qold)@weights)\n",
    "        iters += 1\n",
    "    \n",
    "    wbar = (1-model[\"beta\"])*Qnew\n",
    "    return wbar,iters"
   ]
  },
  {
   "cell_type": "markdown",
   "id": "feaba6af",
   "metadata": {},
   "source": [
    "Test the implementation."
   ]
  },
  {
   "cell_type": "code",
   "execution_count": 12,
   "id": "51764e01",
   "metadata": {
    "scrolled": true
   },
   "outputs": [
    {
     "name": "stdout",
     "output_type": "stream",
     "text": [
      "Reservation wage: 0.78013. Reached in 81 iterations.\n"
     ]
    }
   ],
   "source": [
    "# first define the structure of the model we are solving \n",
    "def model_cdf (w,param=[0,1]):\n",
    "    # uniform density on [a,b] = [0,B]\n",
    "    a = param[0]\n",
    "    b = param[1]\n",
    "    return (w-a)/(b-a)\n",
    "\n",
    "model = {\"beta\":0.96, \"B\": 1, \"c\": 0.2, \"F_cdf\": model_cdf, \"I\" : 1000, \"F_param\": [0,1]}\n",
    "\n",
    "# now call the Newton-Raphson routine and plot\n",
    "wbar,i = reservation_wage_Q_iteration(model)\n",
    "print(f'Reservation wage: {wbar:.5}. Reached in {i} iterations.')"
   ]
  },
  {
   "cell_type": "markdown",
   "id": "19550b92",
   "metadata": {},
   "source": [
    "The iteration method that relies on contraction mapping requires substantially more iterations because the rate of convergence is determined by the rate of discounting of future values, given by $\\beta$, which is close to one."
   ]
  },
  {
   "cell_type": "markdown",
   "id": "f9412d77",
   "metadata": {},
   "source": [
    "## Value function iteration"
   ]
  },
  {
   "cell_type": "markdown",
   "id": "ecc025dd",
   "metadata": {},
   "source": [
    "We now work with the equation\n",
    "\n",
    "\\begin{equation}\n",
    "V\\left( w\\right) =\\max_{\\left\\{ \\text{accept, reject}\\right\\} }\\left\\{\n",
    "\\frac{w}{1-\\beta} ,c+\\beta \\int_{0}^{B}V\\left( w^{\\prime }\\right)\n",
    "dF\\left( w^{\\prime }\\right) \\right\\} .\n",
    "\\end{equation}\n",
    "\n",
    "Defining the Bellman operator\n",
    "\n",
    "$$ (Tv)(w) = \\max_{\\left\\{ \\text{accept, reject}\\right\\} }\\left\\{\n",
    "\\frac{w}{1-\\beta} ,c+\\beta \\int_{0}^{B}v\\left( w^{\\prime }\\right)\n",
    "dF\\left( w^{\\prime }\\right) \\right\\}, $$\n",
    "\n",
    "we can establish that $T$ is a contraction, which again invites an iterative algorithm. Starting from an initial guess $V_0$, we have\n",
    "\n",
    "$$ V_{n+1} = TV_n,$$\n",
    "\n",
    "with the limit $lim_{n\\to\\infty}V_n = V$.\n",
    "\n",
    "The substantial change relative to a contraction mapping argument applied to $Q$ is that we are iterating on the whole function $V$. This is highly inefficient since the only unknown component is the value of $Q$ but we will nevertheless proceed, since the method is useful more broadly."
   ]
  },
  {
   "cell_type": "code",
   "execution_count": 13,
   "id": "377b4370",
   "metadata": {},
   "outputs": [],
   "source": [
    "def mccall_value_function_iteration(model):\n",
    "    I,c,beta = model[\"I\"],model[\"c\"],model[\"beta\"]\n",
    "    Vnew = np.asmatrix(np.ones([I,1]))\n",
    "    Vold = np.asmatrix(np.zeros([I,1]))\n",
    "    w_nodes,weights = simple_quadrature(r=[0,model[\"B\"]],I = model[\"I\"],F=model[\"F_cdf\"],param=model[\"F_param\"])\n",
    "    w_nodes = np.asmatrix(w_nodes).transpose()\n",
    "    weights = np.asmatrix(weights).transpose()\n",
    "    eps = 10**(-10)\n",
    "    iters = 0\n",
    "    while max(abs(Vold-Vnew)) > eps:\n",
    "        Vold = Vnew\n",
    "        Vnew = np.maximum(w_nodes/(1-beta),c + beta*Vnew.transpose()*weights)\n",
    "        iters += 1\n",
    "    # derive reservation wage from Q = wbar/(1-beta)\n",
    "    wbar = float((1-model[\"beta\"])*Vnew[0].item())\n",
    "    return Vnew,wbar,w_nodes,iters"
   ]
  },
  {
   "cell_type": "code",
   "execution_count": 14,
   "id": "01fa966d",
   "metadata": {},
   "outputs": [
    {
     "name": "stdout",
     "output_type": "stream",
     "text": [
      "Reservation wage: 0.78013. Reached in 83 iterations.\n"
     ]
    }
   ],
   "source": [
    "# first define the structure of the model we are solving \n",
    "def model_cdf (w,param=[0,1]):\n",
    "    # uniform density on [a,b] = [0,B]\n",
    "    a = param[0]\n",
    "    b = param[1]\n",
    "    return (w-a)/(b-a)\n",
    "\n",
    "model = {\"beta\":0.96, \"B\": 1, \"c\": 0.2, \"F_cdf\": model_cdf, \"I\" : 1000, \"F_param\": [0,1]}\n",
    "\n",
    "# solve for the value function using value function iteration\n",
    "V,wbar,w_nodes,i = mccall_value_function_iteration(model)\n",
    "print(f'Reservation wage: {wbar:.5}. Reached in {i} iterations.')"
   ]
  },
  {
   "cell_type": "markdown",
   "id": "9da9bf33",
   "metadata": {},
   "source": [
    "We can also plot the value function."
   ]
  },
  {
   "cell_type": "code",
   "execution_count": 15,
   "id": "a32c88c4",
   "metadata": {
    "scrolled": false
   },
   "outputs": [
    {
     "data": {
      "image/png": "[encoded data removed]",
      "text/plain": [
       "<Figure size 900x600 with 1 Axes>"
      ]
     },
     "metadata": {},
     "output_type": "display_data"
    }
   ],
   "source": [
    "param = {'figsize' : [9,6], 'fontsize': 16, 'subplots': [1,1],\n",
    "         'title': 'Value function in the McCall (1970) model',\n",
    "         'xlim': [0,model[\"B\"]], 'ylim': [0,0],\n",
    "         'xlabel': '', 'ylabel': '(%)',\n",
    "         'ylogscale': False,\n",
    "         'showgrid': True, 'highlightzero': True,\n",
    "         'showNBERrecessions' : False, 'showNBERrecessions_y': [0,7]}\n",
    "    \n",
    "fig,ax = ec.GenerateTSPlot(param)\n",
    "\n",
    "ax.plot(w_nodes,V,linewidth=3,color=ec.tolColor['tolVibrantBlue'],linestyle='solid');"
   ]
  }
 ],
 "metadata": {
  "kernelspec": {
   "display_name": "Python 3 (ipykernel)",
   "language": "python",
   "name": "python3"
  },
  "language_info": {
   "codemirror_mode": {
    "name": "ipython",
    "version": 3
   },
   "file_extension": ".py",
   "mimetype": "text/x-python",
   "name": "python",
   "nbconvert_exporter": "python",
   "pygments_lexer": "ipython3",
   "version": "3.9.17"
  }
 },
 "nbformat": 4,
 "nbformat_minor": 5
}
